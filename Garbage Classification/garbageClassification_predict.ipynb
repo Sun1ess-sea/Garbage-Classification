{
 "cells": [
  {
   "cell_type": "code",
   "execution_count": 26,
   "id": "4137c35e-dcf8-4c59-b448-8a270f708d22",
   "metadata": {},
   "outputs": [],
   "source": [
    "from tensorflow.keras.models import load_model\n",
    "from tensorflow.keras.preprocessing.image import load_img, img_to_array\n",
    "import numpy as np"
   ]
  },
  {
   "cell_type": "code",
   "execution_count": 27,
   "id": "21fb946b-6b04-4ecd-a75c-3ed14f3846f4",
   "metadata": {},
   "outputs": [
    {
     "name": "stderr",
     "output_type": "stream",
     "text": [
      "WARNING:absl:Compiled the loaded model, but the compiled metrics have yet to be built. `model.compile_metrics` will be empty until you train or evaluate the model.\n"
     ]
    }
   ],
   "source": [
    "# Загружаем обученную модель\n",
    "model = load_model(\".Model.h5\")\n",
    "\n",
    "# Список категорий\n",
    "class_names = ['battery', 'biological', 'cardboard', 'metal', 'paper', 'plastic']\n",
    "\n",
    "# Загрузка изображения для проверки\n",
    "image_path = \".battery_garbage.jpg\"\n",
    "img = load_img(image_path, target_size = (224, 224))"
   ]
  },
  {
   "cell_type": "code",
   "execution_count": 28,
   "id": "9ad4e670-49f3-448b-b2fa-a2199f59b73e",
   "metadata": {},
   "outputs": [],
   "source": [
    "# преобразование изображения в массив\n",
    "img_array = img_to_array(img)"
   ]
  },
  {
   "cell_type": "code",
   "execution_count": 29,
   "id": "945add62-1dde-4f76-82fd-1e64a86f688b",
   "metadata": {},
   "outputs": [],
   "source": [
    "# масштабирование значений пикселей\n",
    "img_array = img_array / 255.0"
   ]
  },
  {
   "cell_type": "code",
   "execution_count": 30,
   "id": "c4b6dc15-727e-4f5c-baa0-192f3ea70e82",
   "metadata": {},
   "outputs": [],
   "source": [
    "# изменение формы массива для подачи в модель\n",
    "img_array = np.reshape(img_array, (1, 224, 224, 3))"
   ]
  },
  {
   "cell_type": "code",
   "execution_count": 31,
   "id": "fc2370ec-39d2-4f37-924e-85d12dc04268",
   "metadata": {},
   "outputs": [
    {
     "name": "stdout",
     "output_type": "stream",
     "text": [
      "\u001b[1m1/1\u001b[0m \u001b[32m━━━━━━━━━━━━━━━━━━━━\u001b[0m\u001b[37m\u001b[0m \u001b[1m0s\u001b[0m 266ms/step\n"
     ]
    }
   ],
   "source": [
    "# получение предсказаний\n",
    "predictions = model.predict(img_array)"
   ]
  },
  {
   "cell_type": "code",
   "execution_count": 32,
   "id": "40e16e4b-761e-438f-a0d6-65aae56b8d07",
   "metadata": {},
   "outputs": [],
   "source": [
    "# индекс класса с наибольшей вероятностью\n",
    "class_index = np.argmax(predictions[0])"
   ]
  },
  {
   "cell_type": "code",
   "execution_count": 33,
   "id": "be527642-a2b9-4923-bbb1-4ccc3e557e84",
   "metadata": {},
   "outputs": [
    {
     "name": "stdout",
     "output_type": "stream",
     "text": [
      "Предсказанный класс изображения: battery\n"
     ]
    }
   ],
   "source": [
    "predicted_label = class_names[class_index]\n",
    "print(f\"Предсказанный класс изображения: {predicted_label}\")"
   ]
  },
  {
   "cell_type": "code",
   "execution_count": null,
   "id": "acf1d017-ef0f-416c-910d-a9574b14e9f1",
   "metadata": {},
   "outputs": [],
   "source": []
  }
 ],
 "metadata": {
  "kernelspec": {
   "display_name": "Python 3 (ipykernel)",
   "language": "python",
   "name": "python3"
  },
  "language_info": {
   "codemirror_mode": {
    "name": "ipython",
    "version": 3
   },
   "file_extension": ".py",
   "mimetype": "text/x-python",
   "name": "python",
   "nbconvert_exporter": "python",
   "pygments_lexer": "ipython3",
   "version": "3.11.5"
  }
 },
 "nbformat": 4,
 "nbformat_minor": 5
}
